{
  "nbformat": 4,
  "nbformat_minor": 0,
  "metadata": {
    "colab": {
      "name": "Webscrapingit.ipynb",
      "private_outputs": true,
      "provenance": [],
      "collapsed_sections": [],
      "authorship_tag": "ABX9TyOqBXQSKrjpUmPnKr5fb0C1",
      "include_colab_link": true
    },
    "kernelspec": {
      "name": "python3",
      "display_name": "Python 3"
    },
    "language_info": {
      "name": "python"
    }
  },
  "cells": [
    {
      "cell_type": "markdown",
      "metadata": {
        "id": "view-in-github",
        "colab_type": "text"
      },
      "source": [
        "<a href=\"https://colab.research.google.com/github/rodrigogr72p/Web-scraping/blob/main/Webscrapingit.ipynb\" target=\"_parent\"><img src=\"https://colab.research.google.com/assets/colab-badge.svg\" alt=\"Open In Colab\"/></a>"
      ]
    },
    {
      "cell_type": "code",
      "source": [
        "!pip install selenium\n",
        "!apt-get update\n",
        "!apt install chromium-chromedriver\n",
        "#instalando as bibliotecas"
      ],
      "metadata": {
        "id": "7p6Wp5tfzmOm"
      },
      "execution_count": null,
      "outputs": []
    },
    {
      "cell_type": "code",
      "source": [
        "!pip install --upgrade gspread\n",
        "#configurando o pacote gs pread para cria e conectar os dados a planilha google"
      ],
      "metadata": {
        "id": "v6MGGQLdObpX"
      },
      "execution_count": null,
      "outputs": []
    },
    {
      "cell_type": "code",
      "source": [
        "from google.colab import auth\n",
        "auth.authenticate_user()\n",
        "import  gspread\n",
        "from oauth2client.client import  GoogleCredentials\n",
        "gc = gspread.authorize(GoogleCredentials.get_application_default())\n",
        "#Gerando permissões para usar o google drive"
      ],
      "metadata": {
        "id": "GXp-M3ZsOsY3"
      },
      "execution_count": null,
      "outputs": []
    },
    {
      "cell_type": "code",
      "source": [
        "sh =gc.create('nome da planilha') \n",
        "#Criando uma planilha google  subtitua o nome da planilha por de sua preferencia"
      ],
      "metadata": {
        "id": "RIjrda9SPwEw"
      },
      "execution_count": null,
      "outputs": []
    },
    {
      "cell_type": "code",
      "source": [
        "worksheet= gc.open('nome da planilha').sheet1\n",
        "titulos = [ 'DATA', 'LOCAL', 'EVENTO', 'EVENTO 2' , 'EVENTO 3', 'MAIS']\n",
        "campos = worksheet.range('A1:D1')\n",
        "for i in range ( 0, len(campos)):\n",
        "  campos[i].value = titulos[i]\n",
        "worksheet.update_cells(campos)\n",
        "#criando um cabeçalho em sua planilha na linha 1 de A á D\n"
      ],
      "metadata": {
        "id": "8JGVtNI3P_Mx"
      },
      "execution_count": null,
      "outputs": []
    },
    {
      "cell_type": "code",
      "source": [
        "import sys\n",
        "sys.path.insert(0,'/usr/lib/chromium-browser/chromedriver')\n",
        "from  selenium import webdriver\n",
        "from bs4 import  BeautifulSoup\n",
        "import requests\n",
        "import time\n",
        "chrome_options =webdriver.ChromeOptions()\n",
        "chrome_options.add_argument(' --headless')\n",
        "chrome_options.add_argument('--no-sandbox')\n",
        "chrome_options.add_argument('--disable-dev-shm-usage')\n",
        "wd = webdriver.Chrome (chrome_options= chrome_options)\n",
        "#O comando acima é para usar  o google chrome  e abrir o siste dentro do  navegador\n",
        "url = 'endereço do seu site'\n",
        "time.sleep(1)\n",
        "wd.get(url)\n",
        "codigologin =  #aqui é necessário colocar os dados de login do site que esta buscando os dados\n",
        "senhalogin =  # preencha este campo a senha\n",
        "campo_codigologin = wd.find_element_by_css_selector('input[ng-model =\"loginController.credentials.account\"]')\n",
        "campo_senhalogin = wd.find_element_by_css_selector('input[ng-model =\"loginController.credentials.password\"]')\n",
        "#Os dois campos acima, é  onde devera ser escrito no site os valores das variaveis que você preencheu.\n",
        "#PARA DESCOBRIR O VALOR CLIQUE COM O BOTÃO DIREITO DO MOUSE, SELECIONE INSPECIONAR E DESCUBRAR O  SELETOR\n",
        "\n",
        "campo_codigologin.send_keys(codigologin)\n",
        "campo_empresa.send_keys(empresacod)\n",
        "campo_senhalogin.send_keys(senhalogin)\n",
        "botaoentrar= wd.find_element_by_css_selector('.btn')\n",
        "botaoentrar.click()\n",
        "#Aqui esta configurado o botão entrar, use da mesma forma acima clicando no botão direito do mouse e inspecionando o seletor\n",
        "\n",
        "time.sleep(3)\n",
        "html= wd.page_source\n",
        "soup = BeautifulSoup(html, 'html.parser')\n",
        "lista = soup.find_all('html')\n",
        "print(lista)\n",
        "# se tudo ocorrer bem, aqui vai  imprimir os valores descorbetos do site\n",
        "titulo = soup.find_all('div')\n",
        "#aqui estou pegando todos os valores retornado de uma 'div' e transformado em dados para joga-los na planilha google\n",
        "\n",
        "\n",
        "titulo =[titulo[i].get_text() for i in range ( 0, 10)]\n",
        "print(titulo)\n",
        "#pegando os 10 primeiros valores da 'div'  se tudo ocorrer bem, vai imprimilos em lista\n",
        "\n",
        "texto= ' '.join([titulo for  titulo in titulo])\n",
        "print(texto)\n",
        "#usando join para juntar e limpar os dados tornando compreensivel para qualquer pessoa\n",
        "import datetime\n",
        "#importando os dados\n",
        "hoje = datetime.datetime.now()\n",
        "#criando a  data de hoje para incluir na planilha, uso para identificar o momento em que fiz a raspagem\n",
        "hoje = str(hoje)\n",
        "conteudo = [hoje,  texto]\n",
        "registros = worksheet. range('A2:D2')\n",
        "#aqui sera incluso os dados na sua tabela a partir da linha 2 de A á D\n",
        "for i  in  range(0,  len(registros)):\n",
        "  registros[i].value = conteudo[i]\n",
        "  worksheet.update_cells(registros)\n",
        "wd.quit()\n",
        "#FINALIZA  O script\n",
        "\n",
        "\n",
        "\n",
        "\n",
        "\n",
        "\n",
        "\n",
        "\n"
      ],
      "metadata": {
        "id": "ujBQlp__30Ot"
      },
      "execution_count": null,
      "outputs": []
    }
  ]
}